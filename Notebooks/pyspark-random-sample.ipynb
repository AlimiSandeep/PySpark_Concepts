{
 "cells": [
  {
   "cell_type": "markdown",
   "metadata": {},
   "source": [
    "### 1. PySpark SQL sample() Usage & Examples\n",
    "\n",
    "PySpark sampling `(pyspark.sql.DataFrame.sample())` is a mechanism to get random sample records from the dataset, this is helpful when you have a larger dataset and wanted to analyze/test a subset of the data, for example 10% of the original file."
   ]
  },
  {
   "cell_type": "markdown",
   "metadata": {},
   "source": [
    "Below is syntax of the sample() function.\n",
    "\n",
    "```sample(withReplacement, fraction, seed=None)```\n",
    "\n",
    "fraction – Fraction of rows to generate, range [0.0, 1.0]. Note that it doesn’t guarantee to provide the exact number of the fraction of records.\n",
    "\n",
    "seed – Seed for sampling (default a random seed). Used to reproduce the same random sampling.\n",
    "\n",
    "withReplacement – Sample with replacement or not (default False).\n",
    "\n"
   ]
  },
  {
   "cell_type": "markdown",
   "metadata": {},
   "source": [
    "##### 1.1 Using fraction to get a random sample in PySpark\n",
    "By using fraction between 0 to 1, it returns the approximate number of the fraction of the dataset. For example, 0.1 returns 10% of the rows. However, this does not guarantee it returns the exact 10% of the records."
   ]
  },
  {
   "cell_type": "code",
   "execution_count": 1,
   "metadata": {},
   "outputs": [
    {
     "name": "stdout",
     "output_type": "stream",
     "text": [
      "[Row(id=8), Row(id=13), Row(id=95)]\n"
     ]
    }
   ],
   "source": [
    "import pyspark\n",
    "from pyspark.sql import SparkSession\n",
    "\n",
    "spark = SparkSession.builder \\\n",
    "                    .master(\"local[1]\") \\\n",
    "                    .appName(\"PySparkLearning\") \\\n",
    "                    .getOrCreate()\n",
    "\n",
    "df=spark.range(100)\n",
    "print(df.sample(0.06).collect())"
   ]
  },
  {
   "cell_type": "markdown",
   "metadata": {},
   "source": [
    "My DataFrame has 100 records and I wanted to get 6% sample records which are 6 but the sample() function returned 3 records. This proves the sample function doesn’t return the exact fraction specified.      \n",
    "> Results vary for each run"
   ]
  },
  {
   "cell_type": "markdown",
   "metadata": {},
   "source": [
    "##### 1.2 Using seed to reproduce the same Samples in PySpark\n",
    "\n",
    "Every time you run a `sample()` function it returns a different set of sampling records, however sometimes during the development and testing phase you may need to regenerate the same sample every time as you need to compare the results from your previous run. To get consistent same random sampling uses the same slice value for every run. Change slice value to get different results."
   ]
  },
  {
   "cell_type": "code",
   "execution_count": 3,
   "metadata": {},
   "outputs": [
    {
     "name": "stdout",
     "output_type": "stream",
     "text": [
      "[Row(id=36), Row(id=37), Row(id=41), Row(id=43), Row(id=56), Row(id=66), Row(id=69), Row(id=75), Row(id=83)]\n",
      "[Row(id=36), Row(id=37), Row(id=41), Row(id=43), Row(id=56), Row(id=66), Row(id=69), Row(id=75), Row(id=83)]\n",
      "[Row(id=19), Row(id=21), Row(id=42), Row(id=48), Row(id=49), Row(id=50), Row(id=75), Row(id=80)]\n"
     ]
    }
   ],
   "source": [
    "print(df.sample(0.1,123).collect())\n",
    "print(df.sample(0.1,123).collect())\n",
    "print(df.sample(0.1,456).collect())"
   ]
  },
  {
   "cell_type": "markdown",
   "metadata": {},
   "source": [
    "On above examples, first 2 I have used slice 123 hence the sampling results are same and for last I have used 456 as slice hence it has returned different sampling records"
   ]
  },
  {
   "cell_type": "markdown",
   "metadata": {},
   "source": [
    "##### 1.3 Sample `withReplacement `(May contain duplicates)\n",
    "\n",
    "Some times you may need to get a random sample with repeated values. By using the value true, results in repeated values."
   ]
  },
  {
   "cell_type": "code",
   "execution_count": 18,
   "metadata": {},
   "outputs": [
    {
     "name": "stdout",
     "output_type": "stream",
     "text": [
      "0 5 9 11 14 14 16 17 21 29 33 41 42 52 52 54 58 65 65 71 76 79 85 96 \n",
      "<<<<<<<<<<<<<<<<<<<<<<<<<<<<<<<<<<<<<<<<<<<<<<<<<< >>>>>>>>>>>>>>>>>>>>>>>>>>>>>>>>>>>>>>>>>>>>>>>>>>\n",
      "0 4 17 19 24 25 26 36 37 41 43 44 53 56 66 68 69 70 71 75 76 78 83 84 88 94 96 97 98 "
     ]
    }
   ],
   "source": [
    "res1 = df.sample(True,0.3,123).collect()   # with Duplicates\n",
    "for r in res1:\n",
    "    print(r.id, end = ' ')\n",
    "    \n",
    "print()\n",
    "print('<'*50,'>'*50)\n",
    "\n",
    "res2 = df.sample(0.3,123).collect()        # No duplicates\n",
    "for r in res2:\n",
    "    print(r.id, end = ' ')"
   ]
  },
  {
   "cell_type": "markdown",
   "metadata": {},
   "source": [
    "##### 1.4 Stratified sampling in PySpark\n",
    "\n",
    "You can get Stratified sampling in PySpark without replacement by using `sampleBy()` method. It returns a sampling fraction for each stratum. If a stratum is not specified, it takes zero as the default.\n",
    "\n",
    "**sampleBy() Syntax**\n",
    "\n",
    "\n",
    "```\n",
    "sampleBy(col, fractions, seed=None)\n",
    "```\n",
    "\n",
    "col – column name from DataFrame     \n",
    "fractions – It’s Dictionary type takes key and value."
   ]
  },
  {
   "cell_type": "code",
   "execution_count": 19,
   "metadata": {},
   "outputs": [
    {
     "name": "stdout",
     "output_type": "stream",
     "text": [
      "[Row(key=0), Row(key=1), Row(key=1), Row(key=1), Row(key=0), Row(key=1), Row(key=1), Row(key=0), Row(key=1), Row(key=1), Row(key=1)]\n"
     ]
    }
   ],
   "source": [
    "df2=df.select((df.id % 3).alias(\"key\"))\n",
    "\n",
    "print(df2.sampleBy(\"key\", {0: 0.1, 1: 0.2},0).collect())"
   ]
  },
  {
   "cell_type": "markdown",
   "metadata": {},
   "source": [
    "### 2. PySpark RDD Sample\n",
    "\n",
    "PySpark RDD also provides `sample()` function to get a random sampling, it also has another signature `takeSample()` that returns an `Array[T]`.\n",
    "\n",
    "**RDD sample() Syntax & Example**\n",
    "\n",
    "PySpark RDD `sample()` function returns the random sampling similar to DataFrame and takes a similar types of parameters but in a different order.\n",
    "```\n",
    "sample(self, withReplacement, fraction, seed=None)\n",
    "```"
   ]
  },
  {
   "cell_type": "code",
   "execution_count": 20,
   "metadata": {},
   "outputs": [
    {
     "name": "stdout",
     "output_type": "stream",
     "text": [
      "[24, 29, 41, 64, 86]\n",
      "[0, 11, 13, 14, 16, 18, 21, 23, 27, 31, 32, 32, 48, 49, 49, 53, 54, 72, 74, 77, 77, 83, 88, 91, 93, 98, 99]\n"
     ]
    }
   ],
   "source": [
    "rdd = spark.sparkContext.range(0,100)\n",
    "print(rdd.sample(False,0.1,0).collect())\n",
    "print(rdd.sample(True,0.3,123).collect())"
   ]
  },
  {
   "cell_type": "markdown",
   "metadata": {},
   "source": [
    "**RDD takeSample() Syntax & Example**\n",
    "\n",
    "RDD `takeSample()` is an action hence you need to careful when you use this function as it returns the selected sample records to driver memory. Returning too much data results in an out-of-memory error similar to collect().\n",
    "\n",
    "Syntax of RDD takeSample() .\n",
    "\n",
    "```\n",
    "takeSample(self, withReplacement, num, seed=None) \n",
    "```"
   ]
  },
  {
   "cell_type": "code",
   "execution_count": 22,
   "metadata": {},
   "outputs": [
    {
     "name": "stdout",
     "output_type": "stream",
     "text": [
      "[58, 1, 96, 74, 29, 24, 32, 37, 94, 91]\n",
      "[24, 46, 51, 45, 95, 67, 45, 30, 29, 87, 25, 68, 90, 0, 13, 23, 50, 73, 70, 16]\n"
     ]
    }
   ],
   "source": [
    "print(rdd.takeSample(False,10,0))\n",
    "print(rdd.takeSample(True,20,123))"
   ]
  }
 ],
 "metadata": {
  "kernelspec": {
   "display_name": "Python 3",
   "language": "python",
   "name": "python3"
  },
  "language_info": {
   "codemirror_mode": {
    "name": "ipython",
    "version": 3
   },
   "file_extension": ".py",
   "mimetype": "text/x-python",
   "name": "python",
   "nbconvert_exporter": "python",
   "pygments_lexer": "ipython3",
   "version": "3.7.8"
  }
 },
 "nbformat": 4,
 "nbformat_minor": 4
}
