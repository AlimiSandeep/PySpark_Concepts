{
 "cells": [
  {
   "cell_type": "code",
   "execution_count": 1,
   "metadata": {},
   "outputs": [],
   "source": [
    "import pyspark\n",
    "from pyspark.sql import SparkSession\n",
    "\n",
    "spark = SparkSession.builder.appName('PySparkLearning').getOrCreate()"
   ]
  },
  {
   "cell_type": "code",
   "execution_count": 2,
   "metadata": {},
   "outputs": [
    {
     "name": "stdout",
     "output_type": "stream",
     "text": [
      "Initial partition count:2\n",
      "---------------------------\n",
      "Project Gutenberg’s\n",
      "Alice’s Adventures in Wonderland\n",
      "by Lewis Carroll\n",
      "This eBook is for the use\n",
      "of anyone anywhere\n",
      "at no cost and with\n",
      "Project Gutenberg’s\n",
      "\n",
      "\n"
     ]
    }
   ],
   "source": [
    "rdd = spark.sparkContext.textFile(\"../Resources/test.txt\")\n",
    "print(\"Initial partition count:\"+str(rdd.getNumPartitions()))\n",
    "print('---------------------------')\n",
    "for element in rdd.collect():\n",
    "    print(element)"
   ]
  },
  {
   "cell_type": "markdown",
   "metadata": {},
   "source": [
    "`flatMap`\n",
    "– flatMap() transformation flattens the RDD after applying the function and returns a new RDD. On the below example, first, it splits each record by space in an RDD and finally flattens it. Resulting RDD consists of a single word on each record."
   ]
  },
  {
   "cell_type": "code",
   "execution_count": 3,
   "metadata": {},
   "outputs": [
    {
     "name": "stdout",
     "output_type": "stream",
     "text": [
      "Project\n",
      "Gutenberg’s\n",
      "Alice’s\n",
      "Adventures\n",
      "in\n",
      "Wonderland\n",
      "by\n",
      "Lewis\n",
      "Carroll\n",
      "This\n",
      "eBook\n",
      "is\n",
      "for\n",
      "the\n",
      "use\n",
      "of\n",
      "anyone\n",
      "anywhere\n",
      "at\n",
      "no\n",
      "cost\n",
      "and\n",
      "with\n",
      "Project\n",
      "Gutenberg’s\n",
      "\n",
      "\n"
     ]
    }
   ],
   "source": [
    "rdd2=rdd.flatMap(lambda x: x.split(\" \"))\n",
    "for element in rdd2.collect():\n",
    "    print(element)"
   ]
  },
  {
   "cell_type": "markdown",
   "metadata": {},
   "source": [
    "`map` – map() transformation is used the apply any complex operations like adding a column, updating a column e.t.c, the output of map transformations would always have the same number of records as input.\n",
    "\n",
    "In our word count example, we are adding a new column with value 1 for each word, the result of the RDD is PairRDDFunctions which contains key-value pairs, word of type String as Key and 1 of type Int as value."
   ]
  },
  {
   "cell_type": "code",
   "execution_count": 4,
   "metadata": {},
   "outputs": [
    {
     "name": "stdout",
     "output_type": "stream",
     "text": [
      "('Project', 1)\n",
      "('Gutenberg’s', 1)\n",
      "('Alice’s', 1)\n",
      "('Adventures', 1)\n",
      "('in', 1)\n",
      "('Wonderland', 1)\n",
      "('by', 1)\n",
      "('Lewis', 1)\n",
      "('Carroll', 1)\n",
      "('This', 1)\n",
      "('eBook', 1)\n",
      "('is', 1)\n",
      "('for', 1)\n",
      "('the', 1)\n",
      "('use', 1)\n",
      "('of', 1)\n",
      "('anyone', 1)\n",
      "('anywhere', 1)\n",
      "('at', 1)\n",
      "('no', 1)\n",
      "('cost', 1)\n",
      "('and', 1)\n",
      "('with', 1)\n",
      "('Project', 1)\n",
      "('Gutenberg’s', 1)\n",
      "('', 1)\n",
      "('', 1)\n"
     ]
    }
   ],
   "source": [
    "rdd3=rdd2.map(lambda x: (x,1))\n",
    "for element in rdd3.collect():\n",
    "    print(element)"
   ]
  },
  {
   "cell_type": "markdown",
   "metadata": {},
   "source": [
    "`reduceByKey` – reduceByKey() merges the values for each key with the function specified. In our example, it reduces the word string by applying the sum function on value. The result of our RDD contains unique words and their count. "
   ]
  },
  {
   "cell_type": "code",
   "execution_count": 5,
   "metadata": {},
   "outputs": [
    {
     "name": "stdout",
     "output_type": "stream",
     "text": [
      "('Project', 2)\n",
      "('Gutenberg’s', 2)\n",
      "('Alice’s', 1)\n",
      "('in', 1)\n",
      "('Lewis', 1)\n",
      "('Carroll', 1)\n",
      "('is', 1)\n",
      "('use', 1)\n",
      "('of', 1)\n",
      "('anyone', 1)\n",
      "('anywhere', 1)\n",
      "('at', 1)\n",
      "('no', 1)\n",
      "('', 2)\n",
      "('Adventures', 1)\n",
      "('Wonderland', 1)\n",
      "('by', 1)\n",
      "('This', 1)\n",
      "('eBook', 1)\n",
      "('for', 1)\n",
      "('the', 1)\n",
      "('cost', 1)\n",
      "('and', 1)\n",
      "('with', 1)\n"
     ]
    }
   ],
   "source": [
    "rdd4=rdd3.reduceByKey(lambda a,b: a+b)\n",
    "for element in rdd4.collect():\n",
    "    print(element)"
   ]
  },
  {
   "cell_type": "markdown",
   "metadata": {},
   "source": [
    "`sortByKey` – sortByKey() transformation is used to sort RDD elements on key. In our example, first, we convert RDD[(String,Int]) to RDD[(Int, String]) using map transformation and apply sortByKey which ideally does sort on an integer value. And finally, foreach with println statements returns all words in RDD and their count as key-value pair"
   ]
  },
  {
   "cell_type": "code",
   "execution_count": 6,
   "metadata": {},
   "outputs": [
    {
     "name": "stdout",
     "output_type": "stream",
     "text": [
      "(1, 'Alice’s')\n",
      "(1, 'in')\n",
      "(1, 'Lewis')\n",
      "(1, 'Carroll')\n",
      "(1, 'is')\n",
      "(1, 'use')\n",
      "(1, 'of')\n",
      "(1, 'anyone')\n",
      "(1, 'anywhere')\n",
      "(1, 'at')\n",
      "(1, 'no')\n",
      "(1, 'Adventures')\n",
      "(1, 'Wonderland')\n",
      "(1, 'by')\n",
      "(1, 'This')\n",
      "(1, 'eBook')\n",
      "(1, 'for')\n",
      "(1, 'the')\n",
      "(1, 'cost')\n",
      "(1, 'and')\n",
      "(1, 'with')\n",
      "(2, 'Project')\n",
      "(2, 'Gutenberg’s')\n",
      "(2, '')\n"
     ]
    }
   ],
   "source": [
    "rdd5 = rdd4.map(lambda x: (x[1],x[0])).sortByKey()\n",
    "for element in rdd5.collect():\n",
    "    print(element)"
   ]
  },
  {
   "cell_type": "markdown",
   "metadata": {},
   "source": [
    "`filter()` transformation is used to filter the records in an RDD. In our example we are filtering all words starts with “a”."
   ]
  },
  {
   "cell_type": "code",
   "execution_count": null,
   "metadata": {},
   "outputs": [],
   "source": [
    "rdd6 = rdd5.filter(lambda x : 'a' in x[1])\n",
    "for element in rdd6.collect():\n",
    "    print(element)"
   ]
  }
 ],
 "metadata": {
  "kernelspec": {
   "display_name": "Python 3",
   "language": "python",
   "name": "python3"
  },
  "language_info": {
   "codemirror_mode": {
    "name": "ipython",
    "version": 3
   },
   "file_extension": ".py",
   "mimetype": "text/x-python",
   "name": "python",
   "nbconvert_exporter": "python",
   "pygments_lexer": "ipython3",
   "version": "3.7.8"
  }
 },
 "nbformat": 4,
 "nbformat_minor": 4
}
