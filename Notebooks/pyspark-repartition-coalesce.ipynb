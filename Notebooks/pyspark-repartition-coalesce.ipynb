{
 "cells": [
  {
   "cell_type": "markdown",
   "metadata": {},
   "source": [
    "# Repartition"
   ]
  },
  {
   "cell_type": "code",
   "execution_count": 1,
   "metadata": {},
   "outputs": [],
   "source": [
    "import pyspark\n",
    "from pyspark.sql import SparkSession\n",
    "spark = SparkSession.builder.appName('PySparkLearning') \\\n",
    "        .master(\"local[5]\").getOrCreate()"
   ]
  },
  {
   "cell_type": "code",
   "execution_count": 2,
   "metadata": {},
   "outputs": [
    {
     "name": "stdout",
     "output_type": "stream",
     "text": [
      "5\n"
     ]
    }
   ],
   "source": [
    "df=spark.range(0,20)\n",
    "print(df.rdd.getNumPartitions())\n",
    "\n",
    "df.write.mode(\"overwrite\").csv(\"../Resources/spark_output/partition.csv\")\n",
    "# *********** Writes 5 part files, one for each partition ******************"
   ]
  },
  {
   "cell_type": "markdown",
   "metadata": {},
   "source": [
    "```\n",
    "Partition-1 : 0,1,2,3\n",
    "Partition-2 : 4,5,6,7\n",
    "Partition-3 : 8,9,10,11\n",
    "Partition-4 : 12,13,14,15\n",
    "Partition-5 : 16,17,18,19```"
   ]
  },
  {
   "cell_type": "code",
   "execution_count": 5,
   "metadata": {},
   "outputs": [
    {
     "name": "stdout",
     "output_type": "stream",
     "text": [
      "3\n"
     ]
    }
   ],
   "source": [
    "df2 = df.repartition(3)\n",
    "print(df2.rdd.getNumPartitions())\n",
    "df2.write.mode(\"overwrite\").csv(\"../Resources/spark_output/repartition.csv\")\n",
    "# *********** Writes 3 part files, one for each partition ******************"
   ]
  },
  {
   "cell_type": "markdown",
   "metadata": {},
   "source": [
    "```\n",
    "Partition-1 : 2,6,10,14,12,19,17\n",
    "Partition-2 : 3,1,7,4,8,13,16\n",
    "Partition-3 : 0,5,11,9,15,18```"
   ]
  },
  {
   "cell_type": "code",
   "execution_count": 6,
   "metadata": {},
   "outputs": [
    {
     "name": "stdout",
     "output_type": "stream",
     "text": [
      "2\n"
     ]
    }
   ],
   "source": [
    "df3 = df.coalesce(2)\n",
    "print(df3.rdd.getNumPartitions())\n",
    "df3.write.mode(\"overwrite\").csv(\"../Resources/spark_output/coalesce.csv\")\n",
    "# *********** Writes 2 part files, one for each partition ******************"
   ]
  },
  {
   "cell_type": "markdown",
   "metadata": {},
   "source": [
    "```\n",
    "Partition-1 : 0,1,2,3,4,5,6,7\n",
    "Partition-2 : 8,9,10,11,12,13,14,15,16,17,18,19\n",
    "```"
   ]
  }
 ],
 "metadata": {
  "kernelspec": {
   "display_name": "Python 3",
   "language": "python",
   "name": "python3"
  },
  "language_info": {
   "codemirror_mode": {
    "name": "ipython",
    "version": 3
   },
   "file_extension": ".py",
   "mimetype": "text/x-python",
   "name": "python",
   "nbconvert_exporter": "python",
   "pygments_lexer": "ipython3",
   "version": "3.7.8"
  }
 },
 "nbformat": 4,
 "nbformat_minor": 4
}
